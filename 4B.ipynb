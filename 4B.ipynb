{
 "cells": [
  {
   "cell_type": "code",
   "execution_count": 3,
   "id": "94b9c006",
   "metadata": {},
   "outputs": [],
   "source": [
    "\n",
    "\n",
    "variable=\"krishna santhi\""
   ]
  },
  {
   "cell_type": "code",
   "execution_count": 2,
   "id": "cec61e62",
   "metadata": {},
   "outputs": [],
   "source": [
    "variable=\"krishna santhi\""
   ]
  },
  {
   "cell_type": "code",
   "execution_count": 3,
   "id": "387dec9f",
   "metadata": {},
   "outputs": [
    {
     "data": {
      "text/plain": [
       "'krishna santhi'"
      ]
     },
     "execution_count": 3,
     "metadata": {},
     "output_type": "execute_result"
    }
   ],
   "source": [
    "variable"
   ]
  },
  {
   "cell_type": "code",
   "execution_count": 4,
   "id": "7787136e",
   "metadata": {},
   "outputs": [],
   "source": [
    "friend=[\"shanthi\",\"ramya\",\"riya\",\"radhika\",\"gayu\"]"
   ]
  },
  {
   "cell_type": "code",
   "execution_count": 5,
   "id": "726278bb",
   "metadata": {},
   "outputs": [
    {
     "data": {
      "text/plain": [
       "['shanthi', 'ramya', 'riya', 'radhika', 'gayu']"
      ]
     },
     "execution_count": 5,
     "metadata": {},
     "output_type": "execute_result"
    }
   ],
   "source": [
    "friend"
   ]
  },
  {
   "cell_type": "code",
   "execution_count": 6,
   "id": "02479ef4",
   "metadata": {},
   "outputs": [],
   "source": [
    "friend=[\"rannu\",\"ranvitha\",\"harshu\",\"harshal\",\"deepika\",\"akshaya\",\"manasa\",\"pandu\",\"anusha\",\"krishna\"]"
   ]
  },
  {
   "cell_type": "code",
   "execution_count": 7,
   "id": "2a700d19",
   "metadata": {},
   "outputs": [
    {
     "data": {
      "text/plain": [
       "['rannu',\n",
       " 'ranvitha',\n",
       " 'harshu',\n",
       " 'harshal',\n",
       " 'deepika',\n",
       " 'akshaya',\n",
       " 'manasa',\n",
       " 'pandu',\n",
       " 'anusha',\n",
       " 'krishna']"
      ]
     },
     "execution_count": 7,
     "metadata": {},
     "output_type": "execute_result"
    }
   ],
   "source": [
    "friend"
   ]
  },
  {
   "cell_type": "code",
   "execution_count": 8,
   "id": "9a10aa77",
   "metadata": {},
   "outputs": [
    {
     "name": "stdout",
     "output_type": "stream",
     "text": [
      "['rannu', 'ranvitha', 'harshu', 'harshal', 'deepika', 'akshaya', 'manasa', 'pandu', 'anusha', 'krishna']\n"
     ]
    }
   ],
   "source": [
    "print(friend)"
   ]
  },
  {
   "cell_type": "code",
   "execution_count": 1,
   "id": "ae0de48f",
   "metadata": {},
   "outputs": [],
   "source": [
    "family=[\"dhanalakshmi\",\"mahesh\",\"bhavani\",\"prasad\",\"ranvita\",\"prasanth\",\"avinash\",\"nagababu\",\"durga\",\"sai\"]"
   ]
  },
  {
   "cell_type": "code",
   "execution_count": 2,
   "id": "04caf70b",
   "metadata": {},
   "outputs": [],
   "source": [
    "family=[\"dhanalakshmi\",\"mahesh\",\"bhavani\",\"prasad\",\"ranvita\",\"prasanth\",\"avinash\",\"nagababu\",\"durga\",\"sai\"]"
   ]
  },
  {
   "cell_type": "code",
   "execution_count": 3,
   "id": "5968e2b1",
   "metadata": {},
   "outputs": [
    {
     "data": {
      "text/plain": [
       "['dhanalakshmi',\n",
       " 'mahesh',\n",
       " 'bhavani',\n",
       " 'prasad',\n",
       " 'ranvita',\n",
       " 'prasanth',\n",
       " 'avinash',\n",
       " 'nagababu',\n",
       " 'durga',\n",
       " 'sai']"
      ]
     },
     "execution_count": 3,
     "metadata": {},
     "output_type": "execute_result"
    }
   ],
   "source": [
    "family"
   ]
  },
  {
   "cell_type": "code",
   "execution_count": 4,
   "id": "cb2ed6a5",
   "metadata": {},
   "outputs": [
    {
     "name": "stdout",
     "output_type": "stream",
     "text": [
      "['dhanalakshmi', 'mahesh', 'bhavani', 'prasad', 'ranvita', 'prasanth', 'avinash', 'nagababu', 'durga', 'sai']\n"
     ]
    }
   ],
   "source": [
    "print(family)"
   ]
  },
  {
   "cell_type": "code",
   "execution_count": 5,
   "id": "9512fe52",
   "metadata": {},
   "outputs": [],
   "source": [
    "food=[\"chicken\",\"chicken biryani\",\"chicken lollypop\",\"chicken manchhurian\",\"chicken fry\",\"chicken curry\",\"chicken friedrice\",\"biryani\",\"potato\",\"noodles\"]"
   ]
  },
  {
   "cell_type": "code",
   "execution_count": 6,
   "id": "f7edc015",
   "metadata": {},
   "outputs": [],
   "source": [
    "food=[\"chicken\",\"chicken biryani\",\"chicken lollypop\",\"chicken manchhurian\",\"chicken fry\",\"chicken curry\",\"chicken friedrice\",\"biryani\",\"potato\",\"noodles\"]"
   ]
  },
  {
   "cell_type": "code",
   "execution_count": 7,
   "id": "5ebdf41c",
   "metadata": {},
   "outputs": [
    {
     "data": {
      "text/plain": [
       "['chicken',\n",
       " 'chicken biryani',\n",
       " 'chicken lollypop',\n",
       " 'chicken manchhurian',\n",
       " 'chicken fry',\n",
       " 'chicken curry',\n",
       " 'chicken friedrice',\n",
       " 'biryani',\n",
       " 'potato',\n",
       " 'noodles']"
      ]
     },
     "execution_count": 7,
     "metadata": {},
     "output_type": "execute_result"
    }
   ],
   "source": [
    "food"
   ]
  },
  {
   "cell_type": "code",
   "execution_count": 8,
   "id": "622d10e8",
   "metadata": {},
   "outputs": [
    {
     "name": "stdout",
     "output_type": "stream",
     "text": [
      "['chicken', 'chicken biryani', 'chicken lollypop', 'chicken manchhurian', 'chicken fry', 'chicken curry', 'chicken friedrice', 'biryani', 'potato', 'noodles']\n"
     ]
    }
   ],
   "source": [
    "print(food)"
   ]
  },
  {
   "cell_type": "code",
   "execution_count": 9,
   "id": "fb06cfcc",
   "metadata": {},
   "outputs": [],
   "source": [
    "colours=[\"black\",\"blue\",\"pink\",\"sky blue\",\"red\",\"green\",\"yellow\",\"green\",\"orange\",\"white\"]"
   ]
  },
  {
   "cell_type": "code",
   "execution_count": 10,
   "id": "93f34257",
   "metadata": {},
   "outputs": [],
   "source": [
    "colours=[\"black\",\"blue\",\"pink\",\"sky blue\",\"red\",\"green\",\"yellow\",\"green\",\"orange\",\"white\"]"
   ]
  },
  {
   "cell_type": "code",
   "execution_count": 11,
   "id": "6aa186e7",
   "metadata": {},
   "outputs": [
    {
     "data": {
      "text/plain": [
       "['black',\n",
       " 'blue',\n",
       " 'pink',\n",
       " 'sky blue',\n",
       " 'red',\n",
       " 'green',\n",
       " 'yellow',\n",
       " 'green',\n",
       " 'orange',\n",
       " 'white']"
      ]
     },
     "execution_count": 11,
     "metadata": {},
     "output_type": "execute_result"
    }
   ],
   "source": [
    "colours"
   ]
  },
  {
   "cell_type": "code",
   "execution_count": 12,
   "id": "03c97949",
   "metadata": {},
   "outputs": [
    {
     "name": "stdout",
     "output_type": "stream",
     "text": [
      "['black', 'blue', 'pink', 'sky blue', 'red', 'green', 'yellow', 'green', 'orange', 'white']\n"
     ]
    }
   ],
   "source": [
    "print(colours)"
   ]
  },
  {
   "cell_type": "code",
   "execution_count": 13,
   "id": "89a39c51",
   "metadata": {},
   "outputs": [],
   "source": [
    "months=[\"jan\",\"feb\",\"march\",\"april\",\"may\",\"june\",\"july\",\"august\",\"sep\",\"oct\",\"nov\"]"
   ]
  },
  {
   "cell_type": "code",
   "execution_count": 14,
   "id": "edc8be43",
   "metadata": {},
   "outputs": [],
   "source": [
    "months=[\"jan\",\"feb\",\"march\",\"april\",\"may\",\"june\",\"july\",\"august\",\"sep\",\"oct\",\"nov\"]"
   ]
  },
  {
   "cell_type": "code",
   "execution_count": 15,
   "id": "4551eb6f",
   "metadata": {},
   "outputs": [
    {
     "data": {
      "text/plain": [
       "['jan',\n",
       " 'feb',\n",
       " 'march',\n",
       " 'april',\n",
       " 'may',\n",
       " 'june',\n",
       " 'july',\n",
       " 'august',\n",
       " 'sep',\n",
       " 'oct',\n",
       " 'nov']"
      ]
     },
     "execution_count": 15,
     "metadata": {},
     "output_type": "execute_result"
    }
   ],
   "source": [
    "months"
   ]
  },
  {
   "cell_type": "code",
   "execution_count": 16,
   "id": "2cdafef8",
   "metadata": {},
   "outputs": [
    {
     "name": "stdout",
     "output_type": "stream",
     "text": [
      "['jan', 'feb', 'march', 'april', 'may', 'june', 'july', 'august', 'sep', 'oct', 'nov']\n"
     ]
    }
   ],
   "source": [
    "print(months)"
   ]
  },
  {
   "cell_type": "code",
   "execution_count": 17,
   "id": "dde4df63",
   "metadata": {},
   "outputs": [],
   "source": [
    "games=[\"ludo\",\"snake and lader\",\"temple run\",\"cricket\",\"foot ball\",\"throw ball\",\"golf\",\"subway\",\"carroms\",\"kabbadi\"]"
   ]
  },
  {
   "cell_type": "code",
   "execution_count": 18,
   "id": "a750eb4f",
   "metadata": {},
   "outputs": [],
   "source": [
    "games=[\"ludo\",\"snake and lader\",\"temple run\",\"cricket\",\"foot ball\",\"throw ball\",\"golf\",\"subway\",\"carroms\",\"kabbadi\"]"
   ]
  },
  {
   "cell_type": "code",
   "execution_count": 19,
   "id": "6068725e",
   "metadata": {},
   "outputs": [
    {
     "data": {
      "text/plain": [
       "['ludo',\n",
       " 'snake and lader',\n",
       " 'temple run',\n",
       " 'cricket',\n",
       " 'foot ball',\n",
       " 'throw ball',\n",
       " 'golf',\n",
       " 'subway',\n",
       " 'carroms',\n",
       " 'kabbadi']"
      ]
     },
     "execution_count": 19,
     "metadata": {},
     "output_type": "execute_result"
    }
   ],
   "source": [
    "games"
   ]
  },
  {
   "cell_type": "code",
   "execution_count": 20,
   "id": "75331a16",
   "metadata": {},
   "outputs": [
    {
     "name": "stdout",
     "output_type": "stream",
     "text": [
      "['ludo', 'snake and lader', 'temple run', 'cricket', 'foot ball', 'throw ball', 'golf', 'subway', 'carroms', 'kabbadi']\n"
     ]
    }
   ],
   "source": [
    "print(games)"
   ]
  },
  {
   "cell_type": "code",
   "execution_count": 21,
   "id": "db58d81c",
   "metadata": {},
   "outputs": [],
   "source": [
    "city=[\"hydrabad\",\"vijayawada\",\"banglore\",\"chennai\",\"vizag\",\"secundrabad\",\"warangal\",\"amaravathi\",\"ongole\",\"nelllore\"]"
   ]
  },
  {
   "cell_type": "code",
   "execution_count": 22,
   "id": "2c8a8cd6",
   "metadata": {},
   "outputs": [],
   "source": [
    "city=[\"hydrabad\",\"vijayawada\",\"banglore\",\"chennai\",\"vizag\",\"secundrabad\",\"warangal\",\"amaravathi\",\"ongole\",\"nelllore\"]"
   ]
  },
  {
   "cell_type": "code",
   "execution_count": 23,
   "id": "d2bab595",
   "metadata": {},
   "outputs": [
    {
     "data": {
      "text/plain": [
       "['hydrabad',\n",
       " 'vijayawada',\n",
       " 'banglore',\n",
       " 'chennai',\n",
       " 'vizag',\n",
       " 'secundrabad',\n",
       " 'warangal',\n",
       " 'amaravathi',\n",
       " 'ongole',\n",
       " 'nelllore']"
      ]
     },
     "execution_count": 23,
     "metadata": {},
     "output_type": "execute_result"
    }
   ],
   "source": [
    "city"
   ]
  },
  {
   "cell_type": "code",
   "execution_count": 24,
   "id": "66fc3174",
   "metadata": {},
   "outputs": [
    {
     "name": "stdout",
     "output_type": "stream",
     "text": [
      "['hydrabad', 'vijayawada', 'banglore', 'chennai', 'vizag', 'secundrabad', 'warangal', 'amaravathi', 'ongole', 'nelllore']\n"
     ]
    }
   ],
   "source": [
    "print(city)"
   ]
  },
  {
   "cell_type": "code",
   "execution_count": 2,
   "id": "425c7967",
   "metadata": {},
   "outputs": [],
   "source": [
    "(friend_names)=(\"dhanalakshmi\",\"mahesh\",\"ranvitha\",\"harshal\",\"bhavani\",\"prasasd\",\"manasa\",\"pandu\",\"durga\",\"avinash\")"
   ]
  },
  {
   "cell_type": "code",
   "execution_count": null,
   "id": "2cd6bd7d",
   "metadata": {},
   "outputs": [],
   "source": [
    "(friend_names)=(\"dhanalakshmi\",\"mahesh\",\"ranvitha\",\"harshal\",\"bhavani\",\"prasasd\",\"manasa\",\"pandu\",\"durga\",\"avinash\")\n"
   ]
  },
  {
   "cell_type": "code",
   "execution_count": 4,
   "id": "61d16b8e",
   "metadata": {},
   "outputs": [
    {
     "data": {
      "text/plain": [
       "('dhanalakshmi',\n",
       " 'mahesh',\n",
       " 'ranvitha',\n",
       " 'harshal',\n",
       " 'bhavani',\n",
       " 'prasasd',\n",
       " 'manasa',\n",
       " 'pandu',\n",
       " 'durga',\n",
       " 'avinash')"
      ]
     },
     "execution_count": 4,
     "metadata": {},
     "output_type": "execute_result"
    }
   ],
   "source": [
    "friend_names"
   ]
  },
  {
   "cell_type": "code",
   "execution_count": 7,
   "id": "a6d00a73",
   "metadata": {},
   "outputs": [],
   "source": [
    "(family_names)=[\"kanaka durga\",\"nagababu\",\"deeru\",\"avinash\",\"prasanth\",\"akshaya\",\"deepika\",\"sujatha\",\"chitti\"]"
   ]
  },
  {
   "cell_type": "code",
   "execution_count": null,
   "id": "3f235edb",
   "metadata": {},
   "outputs": [],
   "source": [
    "(family_names)=[\"kanaka durga\",\"nagababu\",\"deeru\",\"avinash\",\"prasanth\",\"akshaya\",\"deepika\",\"sujatha\",\"chitti\"]"
   ]
  },
  {
   "cell_type": "code",
   "execution_count": 8,
   "id": "574c1fa2",
   "metadata": {},
   "outputs": [
    {
     "data": {
      "text/plain": [
       "['kanaka durga',\n",
       " 'nagababu',\n",
       " 'deeru',\n",
       " 'avinash',\n",
       " 'prasanth',\n",
       " 'akshaya',\n",
       " 'deepika',\n",
       " 'sujatha',\n",
       " 'chitti']"
      ]
     },
     "execution_count": 8,
     "metadata": {},
     "output_type": "execute_result"
    }
   ],
   "source": [
    "family_names"
   ]
  },
  {
   "cell_type": "code",
   "execution_count": 15,
   "id": "b40c768c",
   "metadata": {},
   "outputs": [],
   "source": [
    "(colours)=[\"green\",\"pink\",\"blue\",\"black\",\"yellow\",\"gold\",\"silver\",\"voilet\",\"sky blue\",\"navy blue\"]"
   ]
  },
  {
   "cell_type": "code",
   "execution_count": 16,
   "id": "09c6661b",
   "metadata": {},
   "outputs": [],
   "source": [
    "(colours)=[\"green\",\"pink\",\"blue\",\"black\",\"yellow\",\"gold\",\"silver\",\"voilet\",\"sky blue\",\"navy blue\"]"
   ]
  },
  {
   "cell_type": "code",
   "execution_count": 17,
   "id": "89d07590",
   "metadata": {},
   "outputs": [
    {
     "data": {
      "text/plain": [
       "['green',\n",
       " 'pink',\n",
       " 'blue',\n",
       " 'black',\n",
       " 'yellow',\n",
       " 'gold',\n",
       " 'silver',\n",
       " 'voilet',\n",
       " 'sky blue',\n",
       " 'navy blue']"
      ]
     },
     "execution_count": 17,
     "metadata": {},
     "output_type": "execute_result"
    }
   ],
   "source": [
    "colours"
   ]
  },
  {
   "cell_type": "code",
   "execution_count": 22,
   "id": "df96ff64",
   "metadata": {},
   "outputs": [],
   "source": [
    "months_names={1,9,10,5,3,2,7,8,6,4}"
   ]
  },
  {
   "cell_type": "code",
   "execution_count": 25,
   "id": "257245e4",
   "metadata": {},
   "outputs": [
    {
     "data": {
      "text/plain": [
       "{1, 2, 3, 4, 5, 6, 7, 8, 9, 10}"
      ]
     },
     "execution_count": 25,
     "metadata": {},
     "output_type": "execute_result"
    }
   ],
   "source": [
    "months_names"
   ]
  },
  {
   "cell_type": "code",
   "execution_count": 1,
   "id": "453fad60",
   "metadata": {},
   "outputs": [],
   "source": [
    "tollywood_heros=[\"chiru\",\"balaya\",\"nag\",\"venky\",\"power star\",\"ntr\",\"ramcharan\"]"
   ]
  },
  {
   "cell_type": "code",
   "execution_count": 2,
   "id": "d97b25e3",
   "metadata": {},
   "outputs": [],
   "source": [
    "tollywood_heros[0:7]=\"chirangevi\",\"balakrishna\",\"nagarjuna\",\"venkatesh\",\"pawan kalyan\",\"nt ramarao\",\"ramcharan\""
   ]
  },
  {
   "cell_type": "code",
   "execution_count": 4,
   "id": "792ceda5",
   "metadata": {},
   "outputs": [
    {
     "data": {
      "text/plain": [
       "['chirangevi',\n",
       " 'balakrishna',\n",
       " 'nagarjuna',\n",
       " 'venkatesh',\n",
       " 'pawan kalyan',\n",
       " 'nt ramarao',\n",
       " 'ramcharan']"
      ]
     },
     "execution_count": 4,
     "metadata": {},
     "output_type": "execute_result"
    }
   ],
   "source": [
    "tollywood_heros"
   ]
  },
  {
   "cell_type": "code",
   "execution_count": 5,
   "id": "37737912",
   "metadata": {},
   "outputs": [],
   "source": [
    "bollywood_heros=[\"sharukhan\",\"salmankhan\",\"salmankhan\",\"amirkhan\",\"hrithikroshan\",\"amithabh bachan\",\"akshay kumar\",\"amirkhan\"]"
   ]
  },
  {
   "cell_type": "code",
   "execution_count": 6,
   "id": "016a8a2a",
   "metadata": {},
   "outputs": [],
   "source": [
    "bollywood_heros={\"sharukhan\",\"salmankhan\",\"salmankhan\",\"amirkhan\",\"hrithikroshan\",\"amithabh bachan\",\"akshay kumar\",\"amirkhan\"}\n"
   ]
  },
  {
   "cell_type": "code",
   "execution_count": 7,
   "id": "b9ca15d5",
   "metadata": {},
   "outputs": [
    {
     "data": {
      "text/plain": [
       "{'akshay kumar',\n",
       " 'amirkhan',\n",
       " 'amithabh bachan',\n",
       " 'hrithikroshan',\n",
       " 'salmankhan',\n",
       " 'sharukhan'}"
      ]
     },
     "execution_count": 7,
     "metadata": {},
     "output_type": "execute_result"
    }
   ],
   "source": [
    "bollywood_heros"
   ]
  },
  {
   "cell_type": "code",
   "execution_count": 8,
   "id": "6907e464",
   "metadata": {},
   "outputs": [],
   "source": [
    "breakfast_items=[\"upma\",\"dosa\",\"idly\",\"puri\",\"punugulu\",\"roti\",\"chapathi\", \"parota\",\"mysoor baji\",\"minapa baji\"]"
   ]
  },
  {
   "cell_type": "code",
   "execution_count": 9,
   "id": "3cfef97e",
   "metadata": {},
   "outputs": [
    {
     "data": {
      "text/plain": [
       "'chapathi'"
      ]
     },
     "execution_count": 9,
     "metadata": {},
     "output_type": "execute_result"
    }
   ],
   "source": [
    "breakfast_items[6]"
   ]
  },
  {
   "cell_type": "code",
   "execution_count": null,
   "id": "9e67e6a4",
   "metadata": {},
   "outputs": [],
   "source": []
  },
  {
   "cell_type": "code",
   "execution_count": null,
   "id": "11b6b71c",
   "metadata": {},
   "outputs": [],
   "source": []
  },
  {
   "cell_type": "code",
   "execution_count": null,
   "id": "47453562",
   "metadata": {},
   "outputs": [],
   "source": []
  },
  {
   "cell_type": "code",
   "execution_count": null,
   "id": "c85b5719",
   "metadata": {},
   "outputs": [],
   "source": []
  }
 ],
 "metadata": {
  "kernelspec": {
   "display_name": "Python 3 (ipykernel)",
   "language": "python",
   "name": "python3"
  },
  "language_info": {
   "codemirror_mode": {
    "name": "ipython",
    "version": 3
   },
   "file_extension": ".py",
   "mimetype": "text/x-python",
   "name": "python",
   "nbconvert_exporter": "python",
   "pygments_lexer": "ipython3",
   "version": "3.10.9"
  }
 },
 "nbformat": 4,
 "nbformat_minor": 5
}
